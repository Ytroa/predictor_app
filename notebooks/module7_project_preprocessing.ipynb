{
 "cells": [
  {
   "cell_type": "code",
   "execution_count": 1,
   "id": "7c575dd4-fb9a-427d-9a8a-56719a390364",
   "metadata": {},
   "outputs": [],
   "source": [
    "import pandas as pd\n",
    "import numpy as np\n"
   ]
  },
  {
   "cell_type": "code",
   "execution_count": 42,
   "id": "c735f670-4759-465e-b308-fe87beffee0f",
   "metadata": {},
   "outputs": [],
   "source": [
    "# import and combine scraped data so far\n",
    "df0 = pd.read_csv(\"solar_df.csv\")\n",
    "df1 = pd.read_csv(\"solar_df_jan23_1.csv\") \n",
    "df2 = pd.read_csv(\"solar_df_jan23_2.csv\")\n",
    "df3 = pd.read_csv(\"solar_df_jan23_3.csv\")\n",
    "df4 = pd.read_csv(\"solar_df_jan23_4.csv\")\n",
    "\n",
    "dfs = [df0, df1, df2, df3, df4] \n",
    "\n",
    "df = pd.concat(dfs)"
   ]
  },
  {
   "cell_type": "code",
   "execution_count": 43,
   "id": "a9c77e62-7da4-4215-87e9-d37adf6508fc",
   "metadata": {},
   "outputs": [
    {
     "data": {
      "text/plain": [
       "10246"
      ]
     },
     "execution_count": 43,
     "metadata": {},
     "output_type": "execute_result"
    }
   ],
   "source": [
    "len(df)"
   ]
  },
  {
   "cell_type": "code",
   "execution_count": 44,
   "id": "c7039ce6-db79-431b-b2be-2ae9e7416497",
   "metadata": {},
   "outputs": [
    {
     "name": "stdout",
     "output_type": "stream",
     "text": [
      "2360\n",
      "1927\n",
      "1949\n",
      "2005\n",
      "2005\n"
     ]
    }
   ],
   "source": [
    "for x in dfs:\n",
    "    print(len(x))"
   ]
  },
  {
   "cell_type": "markdown",
   "id": "2ff30c2e-e088-411f-9264-43421c83e028",
   "metadata": {},
   "source": [
    "# Efficiency\n",
    "\n",
    "- need to transform into numeric type\n",
    "- some values are given as point, other as intervals -- need to unify\n",
    "- where min-max is given, mean will be used; point values will be used as is"
   ]
  },
  {
   "cell_type": "code",
   "execution_count": 46,
   "id": "06289e97-e8cf-442d-b1cb-ced1462509fb",
   "metadata": {},
   "outputs": [],
   "source": [
    "#create helper column to flag interval vs. point value\n",
    "def single_flag(value):\n",
    "    if \"~\" in value:\n",
    "        return(\"interval\")\n",
    "    else:\n",
    "        return(\"point\")"
   ]
  },
  {
   "cell_type": "code",
   "execution_count": 47,
   "id": "6d336098-424b-4b66-8533-24839e6e8dd7",
   "metadata": {},
   "outputs": [],
   "source": [
    "df['efficiency_value'] = df['efficiency'].map(lambda x: single_flag(x))"
   ]
  },
  {
   "cell_type": "code",
   "execution_count": 48,
   "id": "1b76c2c3-26bc-458c-af9a-dbdc2eea234a",
   "metadata": {},
   "outputs": [],
   "source": [
    "df_point = df[df['efficiency_value'] == \"point\"]"
   ]
  },
  {
   "cell_type": "code",
   "execution_count": 49,
   "id": "457970c3-a574-4f34-9e98-0f2b3559d146",
   "metadata": {},
   "outputs": [],
   "source": [
    "pd.options.mode.chained_assignment = None"
   ]
  },
  {
   "cell_type": "code",
   "execution_count": 50,
   "id": "ed2fff87-67f5-4068-bd12-08c0d87cceb1",
   "metadata": {},
   "outputs": [],
   "source": [
    "df_point['efficiency_percent'] = df_point['efficiency'].str.replace(\"%\", \"\")"
   ]
  },
  {
   "cell_type": "code",
   "execution_count": 51,
   "id": "fdf99f36-aeff-42e9-a369-91a0feedeb8a",
   "metadata": {},
   "outputs": [],
   "source": [
    "df_point['efficiency_percent'] = np.where(df_point['efficiency_percent'].str.contains(\"-\"),\n",
    "                                             \"NaN\",\n",
    "                                             df_point['efficiency_percent'])"
   ]
  },
  {
   "cell_type": "code",
   "execution_count": 52,
   "id": "70c4c173-e312-47e9-adde-4e9d2c551e15",
   "metadata": {},
   "outputs": [],
   "source": [
    "df_point['efficiency_percent'] = df_point['efficiency_percent'].astype(float)"
   ]
  },
  {
   "cell_type": "code",
   "execution_count": 53,
   "id": "de269981-04df-46b8-9138-cc11f6714921",
   "metadata": {},
   "outputs": [],
   "source": [
    "df_interval = df[df['efficiency_value'] == \"interval\"]"
   ]
  },
  {
   "cell_type": "code",
   "execution_count": 54,
   "id": "3ac0eaee-4d6a-4459-8326-2995a8319b0d",
   "metadata": {},
   "outputs": [],
   "source": [
    "df_interval['efficiency_min'] =  df_interval[\"efficiency\"].map(lambda x: x.split(\"~\")[0])"
   ]
  },
  {
   "cell_type": "code",
   "execution_count": 55,
   "id": "3343109c-037c-486f-8a6d-c5b8541e44ca",
   "metadata": {},
   "outputs": [],
   "source": [
    "df_interval['efficiency_max'] =  df_interval[\"efficiency\"].map(lambda x: x.split(\"~\")[1])"
   ]
  },
  {
   "cell_type": "code",
   "execution_count": 56,
   "id": "b3ba52dc-8b9a-41a0-80ef-71b9ceb3f36a",
   "metadata": {},
   "outputs": [],
   "source": [
    "df_interval[\"efficiency_max\"] = df_interval['efficiency_max'].map(lambda x: x.replace(\"%\", \"\"))"
   ]
  },
  {
   "cell_type": "code",
   "execution_count": 57,
   "id": "70646c68-d790-4fbe-9677-7b99f9eaf32c",
   "metadata": {},
   "outputs": [],
   "source": [
    "df_interval['efficiency_min'] = df_interval['efficiency_min'].astype(float)\n",
    "df_interval['efficiency_max'] = df_interval['efficiency_max'].astype(float)"
   ]
  },
  {
   "cell_type": "code",
   "execution_count": 58,
   "id": "3a1b7701-3031-4bf2-9226-e962dd269b00",
   "metadata": {},
   "outputs": [],
   "source": [
    "df_interval['efficiency_percent'] = (df_interval['efficiency_min'] + df_interval['efficiency_max'])/2"
   ]
  },
  {
   "cell_type": "code",
   "execution_count": 59,
   "id": "36626654-3f86-4895-86e9-1e9f05b7a697",
   "metadata": {},
   "outputs": [],
   "source": [
    "df = pd.concat([df_point, df_interval], join = \"inner\")"
   ]
  },
  {
   "cell_type": "markdown",
   "id": "4f01cecf-8219-4a9f-b440-5018c41dda6b",
   "metadata": {},
   "source": [
    "# Price \n",
    "- some entries for price seem to be wrong: they have to be divided by 100 to make sense\n",
    "- there are 2 values at around EURO 40 -- we cannot know what the intention was here\n",
    "- note that the \"expensive\" ones which cost above 2-3 EUR but below 5 are extremely light, whereas the outliers (>100EURO) weigh the same as the regular priced panels (above 10-30kg)"
   ]
  },
  {
   "cell_type": "code",
   "execution_count": 60,
   "id": "4315160b-691e-46d5-a1ff-42b123149043",
   "metadata": {},
   "outputs": [],
   "source": [
    "df['price_euro'] = df['price'].map(lambda x: x.replace(\"\\u20ac\", \"\")).astype(float)"
   ]
  },
  {
   "cell_type": "code",
   "execution_count": 61,
   "id": "4d5d33e6-f38f-4e62-85fa-a9d9f37241f9",
   "metadata": {},
   "outputs": [],
   "source": [
    "# divide the prices above 100 by 100\n",
    "df['price_euro'] = np.where(df['price_euro'] > 100,\n",
    "                              df['price_euro']/100,\n",
    "                              df['price_euro'])\n"
   ]
  },
  {
   "cell_type": "code",
   "execution_count": 62,
   "id": "f9b6a97b-6c0b-4b0c-a1e6-7834a681af8e",
   "metadata": {},
   "outputs": [],
   "source": [
    "# transform the prices below 100 but above 10 into NA (2 remaining)\n",
    "df['price_euro'] = np.where(df['price_euro'] > 40,\n",
    "                              float('nan'),\n",
    "                              df['price_euro'])\n"
   ]
  },
  {
   "cell_type": "markdown",
   "id": "f6526659-4760-474e-8556-489aa6836863",
   "metadata": {},
   "source": [
    "# Brand\n",
    "\n",
    "- Create \"other\" category for brands that have fewer than 10 datapoints"
   ]
  },
  {
   "cell_type": "code",
   "execution_count": 63,
   "id": "a8088da0-5b2d-4784-a308-09191d8effe0",
   "metadata": {},
   "outputs": [],
   "source": [
    "df['brand_frequency'] = df.groupby('brand')['brand'].transform(\"count\")"
   ]
  },
  {
   "cell_type": "code",
   "execution_count": 64,
   "id": "4cf2673f-2bbb-448e-a832-4363071a929b",
   "metadata": {},
   "outputs": [
    {
     "data": {
      "text/html": [
       "<div>\n",
       "<style scoped>\n",
       "    .dataframe tbody tr th:only-of-type {\n",
       "        vertical-align: middle;\n",
       "    }\n",
       "\n",
       "    .dataframe tbody tr th {\n",
       "        vertical-align: top;\n",
       "    }\n",
       "\n",
       "    .dataframe thead th {\n",
       "        text-align: right;\n",
       "    }\n",
       "</style>\n",
       "<table border=\"1\" class=\"dataframe\">\n",
       "  <thead>\n",
       "    <tr style=\"text-align: right;\">\n",
       "      <th></th>\n",
       "      <th>Unnamed: 0</th>\n",
       "      <th>series</th>\n",
       "      <th>brand</th>\n",
       "      <th>panel_type</th>\n",
       "      <th>efficiency</th>\n",
       "      <th>power</th>\n",
       "      <th>weight</th>\n",
       "      <th>region</th>\n",
       "      <th>dimension</th>\n",
       "      <th>price</th>\n",
       "      <th>efficiency_value</th>\n",
       "      <th>efficiency_percent</th>\n",
       "      <th>price_euro</th>\n",
       "      <th>brand_frequency</th>\n",
       "    </tr>\n",
       "  </thead>\n",
       "  <tbody>\n",
       "    <tr>\n",
       "      <th>6</th>\n",
       "      <td>6</td>\n",
       "      <td>(Shingled) ECO-480-500M-72SB</td>\n",
       "      <td>ECO DELTA</td>\n",
       "      <td>Monocrystalline</td>\n",
       "      <td>20.5 ~ 21.33 %</td>\n",
       "      <td>480 ~ 500 Wp</td>\n",
       "      <td>25 kg</td>\n",
       "      <td>China</td>\n",
       "      <td>2056x1140x35 mm</td>\n",
       "      <td>€0.320</td>\n",
       "      <td>interval</td>\n",
       "      <td>20.915</td>\n",
       "      <td>0.320</td>\n",
       "      <td>8</td>\n",
       "    </tr>\n",
       "    <tr>\n",
       "      <th>679</th>\n",
       "      <td>679</td>\n",
       "      <td>WP365-380/G6-120H</td>\n",
       "      <td>Wattpower</td>\n",
       "      <td>PERC</td>\n",
       "      <td>20 ~ 20.9 %</td>\n",
       "      <td>365 ~ 380 Wp</td>\n",
       "      <td>19.5 kg</td>\n",
       "      <td>Germany</td>\n",
       "      <td>1755x1038x35 mm</td>\n",
       "      <td>€0.283</td>\n",
       "      <td>interval</td>\n",
       "      <td>20.450</td>\n",
       "      <td>0.283</td>\n",
       "      <td>8</td>\n",
       "    </tr>\n",
       "    <tr>\n",
       "      <th>684</th>\n",
       "      <td>684</td>\n",
       "      <td>AstroSemi CHSM72M-HC 525W-545W</td>\n",
       "      <td>Astronergy</td>\n",
       "      <td>Monocrystalline</td>\n",
       "      <td>20.5 ~ 21.3 %</td>\n",
       "      <td>525 ~ 545 Wp</td>\n",
       "      <td>27.2 kg</td>\n",
       "      <td>Spain</td>\n",
       "      <td>2256x1133x35 mm</td>\n",
       "      <td>€0.208</td>\n",
       "      <td>interval</td>\n",
       "      <td>20.900</td>\n",
       "      <td>0.208</td>\n",
       "      <td>8</td>\n",
       "    </tr>\n",
       "    <tr>\n",
       "      <th>116</th>\n",
       "      <td>116</td>\n",
       "      <td>(Shingled) ECO-395-415M-60SB</td>\n",
       "      <td>ECO DELTA</td>\n",
       "      <td>Monocrystalline</td>\n",
       "      <td>20.2 ~ 21.2 %</td>\n",
       "      <td>395 ~ 415 Wp</td>\n",
       "      <td>21 kg</td>\n",
       "      <td>China</td>\n",
       "      <td>1719x1140x30 mm</td>\n",
       "      <td>€0.320</td>\n",
       "      <td>interval</td>\n",
       "      <td>20.700</td>\n",
       "      <td>0.320</td>\n",
       "      <td>8</td>\n",
       "    </tr>\n",
       "    <tr>\n",
       "      <th>412</th>\n",
       "      <td>412</td>\n",
       "      <td>GPMDG-540W(144)</td>\n",
       "      <td>G&amp;P Sun Energy Technology</td>\n",
       "      <td>Monocrystalline</td>\n",
       "      <td>20.84 %</td>\n",
       "      <td>540 Wp</td>\n",
       "      <td>31.6 kg</td>\n",
       "      <td>China</td>\n",
       "      <td>2278x1134x35 mm</td>\n",
       "      <td>€159</td>\n",
       "      <td>point</td>\n",
       "      <td>20.840</td>\n",
       "      <td>1.590</td>\n",
       "      <td>8</td>\n",
       "    </tr>\n",
       "    <tr>\n",
       "      <th>278</th>\n",
       "      <td>278</td>\n",
       "      <td>NRS-FLX-75-510W</td>\n",
       "      <td>NRSun</td>\n",
       "      <td>Thin film (CIS)</td>\n",
       "      <td>17 %</td>\n",
       "      <td>125 ~ 510 Wp</td>\n",
       "      <td>--</td>\n",
       "      <td>Belgium</td>\n",
       "      <td>--</td>\n",
       "      <td>€166</td>\n",
       "      <td>point</td>\n",
       "      <td>17.000</td>\n",
       "      <td>1.660</td>\n",
       "      <td>8</td>\n",
       "    </tr>\n",
       "    <tr>\n",
       "      <th>309</th>\n",
       "      <td>309</td>\n",
       "      <td>Mono 6</td>\n",
       "      <td>Greco Solar</td>\n",
       "      <td>Monocrystalline</td>\n",
       "      <td>14.8 ~ 16 %</td>\n",
       "      <td>240 ~ 260 Wp</td>\n",
       "      <td>20 kg</td>\n",
       "      <td>China</td>\n",
       "      <td>1640x992x40 mm</td>\n",
       "      <td>€0.223</td>\n",
       "      <td>interval</td>\n",
       "      <td>15.400</td>\n",
       "      <td>0.223</td>\n",
       "      <td>8</td>\n",
       "    </tr>\n",
       "    <tr>\n",
       "      <th>314</th>\n",
       "      <td>314</td>\n",
       "      <td>ASTRO 5s CHSM54M-HC 400~415W</td>\n",
       "      <td>Astronergy</td>\n",
       "      <td>Monocrystalline</td>\n",
       "      <td>20.5 ~ 21.3 %</td>\n",
       "      <td>400 ~ 415 Wp</td>\n",
       "      <td>21.5 kg</td>\n",
       "      <td>Spain</td>\n",
       "      <td>1708x1133x30 mm</td>\n",
       "      <td>€0.251</td>\n",
       "      <td>interval</td>\n",
       "      <td>20.900</td>\n",
       "      <td>0.251</td>\n",
       "      <td>8</td>\n",
       "    </tr>\n",
       "    <tr>\n",
       "      <th>328</th>\n",
       "      <td>328</td>\n",
       "      <td>XSM-435-455M-SS</td>\n",
       "      <td>Newsunmi New Energy</td>\n",
       "      <td>Monocrystalline</td>\n",
       "      <td>20.01 ~ 20.93 %</td>\n",
       "      <td>435 ~ 455 Wp</td>\n",
       "      <td>24.5 kg</td>\n",
       "      <td>China</td>\n",
       "      <td>2102x1040x35 mm</td>\n",
       "      <td>€10.0</td>\n",
       "      <td>interval</td>\n",
       "      <td>20.470</td>\n",
       "      <td>10.000</td>\n",
       "      <td>8</td>\n",
       "    </tr>\n",
       "    <tr>\n",
       "      <th>684</th>\n",
       "      <td>684</td>\n",
       "      <td>AstroSemi CHSM72M-HC 525W-545W</td>\n",
       "      <td>Astronergy</td>\n",
       "      <td>Monocrystalline</td>\n",
       "      <td>20.5 ~ 21.3 %</td>\n",
       "      <td>525 ~ 545 Wp</td>\n",
       "      <td>27.2 kg</td>\n",
       "      <td>Spain</td>\n",
       "      <td>2256x1133x35 mm</td>\n",
       "      <td>€0.208</td>\n",
       "      <td>interval</td>\n",
       "      <td>20.900</td>\n",
       "      <td>0.208</td>\n",
       "      <td>8</td>\n",
       "    </tr>\n",
       "  </tbody>\n",
       "</table>\n",
       "</div>"
      ],
      "text/plain": [
       "     Unnamed: 0                          series                      brand  \\\n",
       "6             6    (Shingled) ECO-480-500M-72SB                  ECO DELTA   \n",
       "679         679               WP365-380/G6-120H                  Wattpower   \n",
       "684         684  AstroSemi CHSM72M-HC 525W-545W                 Astronergy   \n",
       "116         116    (Shingled) ECO-395-415M-60SB                  ECO DELTA   \n",
       "412         412                 GPMDG-540W(144)  G&P Sun Energy Technology   \n",
       "278         278                 NRS-FLX-75-510W                      NRSun   \n",
       "309         309                          Mono 6                Greco Solar   \n",
       "314         314    ASTRO 5s CHSM54M-HC 400~415W                 Astronergy   \n",
       "328         328                 XSM-435-455M-SS        Newsunmi New Energy   \n",
       "684         684  AstroSemi CHSM72M-HC 525W-545W                 Astronergy   \n",
       "\n",
       "          panel_type       efficiency         power   weight   region  \\\n",
       "6    Monocrystalline   20.5 ~ 21.33 %  480 ~ 500 Wp    25 kg    China   \n",
       "679             PERC      20 ~ 20.9 %  365 ~ 380 Wp  19.5 kg  Germany   \n",
       "684  Monocrystalline    20.5 ~ 21.3 %  525 ~ 545 Wp  27.2 kg    Spain   \n",
       "116  Monocrystalline    20.2 ~ 21.2 %  395 ~ 415 Wp    21 kg    China   \n",
       "412  Monocrystalline          20.84 %        540 Wp  31.6 kg    China   \n",
       "278  Thin film (CIS)             17 %  125 ~ 510 Wp       --  Belgium   \n",
       "309  Monocrystalline      14.8 ~ 16 %  240 ~ 260 Wp    20 kg    China   \n",
       "314  Monocrystalline    20.5 ~ 21.3 %  400 ~ 415 Wp  21.5 kg    Spain   \n",
       "328  Monocrystalline  20.01 ~ 20.93 %  435 ~ 455 Wp  24.5 kg    China   \n",
       "684  Monocrystalline    20.5 ~ 21.3 %  525 ~ 545 Wp  27.2 kg    Spain   \n",
       "\n",
       "           dimension   price efficiency_value  efficiency_percent  price_euro  \\\n",
       "6    2056x1140x35 mm  €0.320         interval              20.915       0.320   \n",
       "679  1755x1038x35 mm  €0.283         interval              20.450       0.283   \n",
       "684  2256x1133x35 mm  €0.208         interval              20.900       0.208   \n",
       "116  1719x1140x30 mm  €0.320         interval              20.700       0.320   \n",
       "412  2278x1134x35 mm    €159            point              20.840       1.590   \n",
       "278               --    €166            point              17.000       1.660   \n",
       "309   1640x992x40 mm  €0.223         interval              15.400       0.223   \n",
       "314  1708x1133x30 mm  €0.251         interval              20.900       0.251   \n",
       "328  2102x1040x35 mm   €10.0         interval              20.470      10.000   \n",
       "684  2256x1133x35 mm  €0.208         interval              20.900       0.208   \n",
       "\n",
       "     brand_frequency  \n",
       "6                  8  \n",
       "679                8  \n",
       "684                8  \n",
       "116                8  \n",
       "412                8  \n",
       "278                8  \n",
       "309                8  \n",
       "314                8  \n",
       "328                8  \n",
       "684                8  "
      ]
     },
     "execution_count": 64,
     "metadata": {},
     "output_type": "execute_result"
    }
   ],
   "source": [
    "df.sort_values(by = 'brand_frequency').iloc[240:250]"
   ]
  },
  {
   "cell_type": "code",
   "execution_count": 65,
   "id": "9773aa5d-1e20-4819-b392-d93375577900",
   "metadata": {},
   "outputs": [],
   "source": [
    "brand_count = df['brand'].value_counts()"
   ]
  },
  {
   "cell_type": "code",
   "execution_count": 66,
   "id": "4843254a-8669-42ab-aa7e-5f3c8a3fc640",
   "metadata": {},
   "outputs": [],
   "source": [
    "other_brands = list(brand_count[brand_count < 10].index)"
   ]
  },
  {
   "cell_type": "code",
   "execution_count": 67,
   "id": "c355909c-e989-46a4-92a3-5fea8f3c0d12",
   "metadata": {},
   "outputs": [],
   "source": [
    "df['brand_bucketed'] = df['brand'].replace(other_brands, 'Other')"
   ]
  },
  {
   "cell_type": "markdown",
   "id": "68bf3a10-2a68-4af4-92c4-bb3899f72ce4",
   "metadata": {},
   "source": [
    "# Panel Type\n",
    "\n",
    "- like for brand: create \"Other\" category for those with fewer than 10 datapoints"
   ]
  },
  {
   "cell_type": "code",
   "execution_count": 68,
   "id": "fe4e717d-37fd-41e6-aaac-f7e9168e3506",
   "metadata": {},
   "outputs": [],
   "source": [
    "panel_count = df['panel_type'].value_counts()"
   ]
  },
  {
   "cell_type": "code",
   "execution_count": 69,
   "id": "e10dfb78-bcfe-4431-8359-1cbc1ab9c90c",
   "metadata": {},
   "outputs": [],
   "source": [
    "other_panel = list(panel_count[panel_count < 10].index)"
   ]
  },
  {
   "cell_type": "code",
   "execution_count": 70,
   "id": "2a6e5c88-6219-41e8-8afd-76a2c34a138d",
   "metadata": {},
   "outputs": [],
   "source": [
    "df['panel_type_bucketed'] = df['panel_type'].replace(other_panel, \"Other\")"
   ]
  },
  {
   "cell_type": "markdown",
   "id": "bea04bd9-eca8-4f66-9265-56b99e7738d5",
   "metadata": {},
   "source": [
    "# Weight"
   ]
  },
  {
   "cell_type": "code",
   "execution_count": 71,
   "id": "4b0b82a3-c636-44b1-a7f0-c551dd5d324d",
   "metadata": {},
   "outputs": [],
   "source": [
    "df['weight_kg'] = np.where(df['weight'].str.contains(\"-\"),\n",
    "                           \"Nan\",\n",
    "                           df['weight'].map(lambda x: x.split(\"kg\")[0])\n",
    "                              )"
   ]
  },
  {
   "cell_type": "code",
   "execution_count": 72,
   "id": "a1af1e33-90d3-4b38-8625-13a45f24ae4a",
   "metadata": {},
   "outputs": [],
   "source": [
    "df['weight_kg'] = df['weight_kg'].astype(float)"
   ]
  },
  {
   "cell_type": "markdown",
   "id": "ab6732dd-30ae-49fd-8770-a9bdbdfcf4ea",
   "metadata": {},
   "source": [
    "# Region"
   ]
  },
  {
   "cell_type": "code",
   "execution_count": 73,
   "id": "578db4f8-ca4c-469c-a9af-6f04332b861f",
   "metadata": {},
   "outputs": [],
   "source": [
    "df['region'] = df['region'].map(lambda x: x.strip())"
   ]
  },
  {
   "cell_type": "code",
   "execution_count": 74,
   "id": "a3f38082-42ff-43d6-855a-06d04a2d3237",
   "metadata": {},
   "outputs": [],
   "source": [
    "region_count = df['region'].value_counts()"
   ]
  },
  {
   "cell_type": "code",
   "execution_count": 75,
   "id": "00a3207e-95fd-49e7-8662-b5c22421e022",
   "metadata": {},
   "outputs": [],
   "source": [
    "other_region = list(region_count[region_count < 10].index)"
   ]
  },
  {
   "cell_type": "code",
   "execution_count": 76,
   "id": "dd4d14a7-16ed-4bb5-918e-a05114726a63",
   "metadata": {},
   "outputs": [],
   "source": [
    "df['region_bucketed'] = df['region'].replace(other_region, \"Other\")"
   ]
  },
  {
   "cell_type": "markdown",
   "id": "03ebaef7-adc2-499d-ae5a-f2a430f2bab4",
   "metadata": {},
   "source": [
    "# Drop unused columns"
   ]
  },
  {
   "cell_type": "code",
   "execution_count": 77,
   "id": "e5d1ddb2-6fde-4631-a67e-f21319bd6d5b",
   "metadata": {},
   "outputs": [
    {
     "data": {
      "text/plain": [
       "Index(['Unnamed: 0', 'series', 'brand', 'panel_type', 'efficiency', 'power',\n",
       "       'weight', 'region', 'dimension', 'price', 'efficiency_value',\n",
       "       'efficiency_percent', 'price_euro', 'brand_frequency', 'brand_bucketed',\n",
       "       'panel_type_bucketed', 'weight_kg', 'region_bucketed'],\n",
       "      dtype='object')"
      ]
     },
     "execution_count": 77,
     "metadata": {},
     "output_type": "execute_result"
    }
   ],
   "source": [
    "df.columns"
   ]
  },
  {
   "cell_type": "code",
   "execution_count": 78,
   "id": "3bfb90e9-f174-48ff-bc99-46bc36570922",
   "metadata": {},
   "outputs": [],
   "source": [
    "df.drop(['Unnamed: 0', 'brand', 'panel_type',  'efficiency', 'power', \n",
    "        'weight', 'region', 'dimension', 'price', 'efficiency_value', \n",
    "        'brand_frequency'], \n",
    "        axis=1,\n",
    "        inplace=True)"
   ]
  },
  {
   "cell_type": "markdown",
   "id": "f6af2399-b16a-425e-91f7-07664c2d40e1",
   "metadata": {},
   "source": [
    "# Remove Duplicates"
   ]
  },
  {
   "cell_type": "code",
   "execution_count": 80,
   "id": "fde98e54-e648-4036-b806-daeb356657e3",
   "metadata": {},
   "outputs": [
    {
     "name": "stdout",
     "output_type": "stream",
     "text": [
      "10246\n",
      "6978\n"
     ]
    }
   ],
   "source": [
    "print(len(df))\n",
    "print(df.duplicated().sum())"
   ]
  },
  {
   "cell_type": "code",
   "execution_count": 81,
   "id": "7e748c47-2032-41ab-8701-b5a0bb478e33",
   "metadata": {},
   "outputs": [],
   "source": [
    "df.drop_duplicates(inplace=True)"
   ]
  },
  {
   "cell_type": "markdown",
   "id": "0d003cc0-554e-4b99-9fc2-c4bc3fb1f667",
   "metadata": {},
   "source": [
    "# Save"
   ]
  },
  {
   "cell_type": "code",
   "execution_count": 82,
   "id": "fbc739ec-8fca-4502-bb83-f751882c00da",
   "metadata": {},
   "outputs": [],
   "source": [
    "# save to csv\n",
    "df.to_csv('df_clean.csv')"
   ]
  },
  {
   "cell_type": "code",
   "execution_count": 83,
   "id": "c9a76b05-dd38-410b-ad44-685ffdb870ba",
   "metadata": {},
   "outputs": [],
   "source": [
    "df_clean = pd.read_csv(\"df_clean.csv\")"
   ]
  },
  {
   "cell_type": "code",
   "execution_count": 84,
   "id": "dc08eea1-6214-4547-8468-09db0552accf",
   "metadata": {},
   "outputs": [
    {
     "name": "stdout",
     "output_type": "stream",
     "text": [
      "<class 'pandas.core.frame.DataFrame'>\n",
      "RangeIndex: 3268 entries, 0 to 3267\n",
      "Data columns (total 8 columns):\n",
      " #   Column               Non-Null Count  Dtype  \n",
      "---  ------               --------------  -----  \n",
      " 0   Unnamed: 0           3268 non-null   int64  \n",
      " 1   series               3268 non-null   object \n",
      " 2   efficiency_percent   3116 non-null   float64\n",
      " 3   price_euro           3267 non-null   float64\n",
      " 4   brand_bucketed       3268 non-null   object \n",
      " 5   panel_type_bucketed  3268 non-null   object \n",
      " 6   weight_kg            3116 non-null   float64\n",
      " 7   region_bucketed      3268 non-null   object \n",
      "dtypes: float64(3), int64(1), object(4)\n",
      "memory usage: 204.4+ KB\n"
     ]
    }
   ],
   "source": [
    "df_clean.info()"
   ]
  }
 ],
 "metadata": {
  "kernelspec": {
   "display_name": "Python 3 (regression)",
   "language": "python",
   "name": "regression"
  },
  "language_info": {
   "codemirror_mode": {
    "name": "ipython",
    "version": 3
   },
   "file_extension": ".py",
   "mimetype": "text/x-python",
   "name": "python",
   "nbconvert_exporter": "python",
   "pygments_lexer": "ipython3",
   "version": "3.8.8"
  }
 },
 "nbformat": 4,
 "nbformat_minor": 5
}
