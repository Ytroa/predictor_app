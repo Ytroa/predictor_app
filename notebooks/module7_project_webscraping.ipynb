{
 "cells": [
  {
   "cell_type": "code",
   "execution_count": 1,
   "id": "d16d4a71-306b-4b7b-8f4b-e5bc572465e2",
   "metadata": {},
   "outputs": [],
   "source": [
    "import requests, bs4\n",
    "import re\n",
    "from bs4 import BeautifulSoup as bs\n",
    "from time import sleep\n",
    "\n",
    "import pandas as pd\n",
    "import numpy as np"
   ]
  },
  {
   "cell_type": "code",
   "execution_count": 2,
   "id": "b1d50212-83b0-40cf-b741-bcd69b9032d0",
   "metadata": {},
   "outputs": [],
   "source": [
    "# create lists for each feature\n",
    "series_list = []\n",
    "brand_list = []\n",
    "panel_type_list = []\n",
    "efficiency_list = []\n",
    "power_list = []\n",
    "weight_list = [] \n",
    "region_list = [] \n",
    "dimension_list = [] \n",
    "price_list = []"
   ]
  },
  {
   "cell_type": "code",
   "execution_count": 3,
   "id": "28404db5-1bb3-41ae-a617-f7eb6b784f9b",
   "metadata": {},
   "outputs": [],
   "source": [
    "# adjust page numbers \n",
    "pages = [i for i in range(1,560)]"
   ]
  },
  {
   "cell_type": "code",
   "execution_count": 5,
   "id": "2cdb0800-28bf-4cf2-8ca3-a43eb187ac31",
   "metadata": {},
   "outputs": [],
   "source": [
    "url_base = 'https://www.enfsolar.com/pv/panel/'\n",
    "\n",
    "url_list = [url_base+str(i) for i in pages]\n",
    "\n",
    "for url in url_list:\n",
    "    sleep(1)\n",
    "    page = requests.get(url).text\n",
    "    soup = bs(page)\n",
    "\n",
    "    for item in soup.find_all(class_ = 'enf-product-name'):\n",
    "        series = item.get('title')\n",
    "        series_list.append(series)\n",
    "    \n",
    "    for item in soup.find_all(class_ = 'enf-product-name'):\n",
    "        brand = item.next.next.next.text.strip()\n",
    "        brand_list.append(brand)\n",
    "        \n",
    "    for item in soup.find_all(class_ = 'enf-pd-list-table'):\n",
    "        panel_type = item.find(class_ = 'enf-yellow').text.strip()\n",
    "        panel_type_list.append(panel_type)\n",
    "        \n",
    "    for item in soup.find_all('td', text = re.compile('Panel Efficiency')):\n",
    "        efficiency = item.next.next.next.next.strip()\n",
    "        efficiency_list.append(efficiency)\n",
    "        \n",
    "    for item in soup.find_all(text = re.compile('Power Range')):\n",
    "        power_range = item.next.next.next.text.strip()\n",
    "        power_list.append(power_range)\n",
    "        \n",
    "    for weight in soup.find_all(text = re.compile('Weight:')):\n",
    "        weight =  weight.next.next.text.strip()\n",
    "        weight_list.append(weight)\n",
    "        \n",
    "    for item in soup.find_all(text = re.compile(\"Region\")):\n",
    "        region = item.next.next.text.strip()\n",
    "        region_list.append(region)\n",
    "        \n",
    "    for item in soup.find_all(text = re.compile(\"Panel Dimension\")):\n",
    "        dimension = item.next.next.text.strip()\n",
    "        dimension_list.append(dimension)\n",
    "        \n",
    "    for item in soup.find_all(text = re.compile(\"From\")):\n",
    "        price = item.next.text.strip()\n",
    "        price_list.append(price)\n",
    "\n",
    "        "
   ]
  },
  {
   "cell_type": "code",
   "execution_count": 6,
   "id": "183496a0-95c5-4540-a02a-e93a2346167c",
   "metadata": {},
   "outputs": [
    {
     "name": "stdout",
     "output_type": "stream",
     "text": [
      "11163\n",
      "11163\n",
      "11163\n",
      "11163\n",
      "11163\n",
      "11163\n",
      "11163\n",
      "11163\n",
      "2055\n"
     ]
    }
   ],
   "source": [
    "#check if all lists have the same length\n",
    "#price info is often missing\n",
    "\n",
    "for list in [series_list, brand_list, panel_type_list, efficiency_list,\n",
    "power_list, weight_list, region_list, dimension_list, price_list]:\n",
    "    print(len(list))"
   ]
  },
  {
   "cell_type": "code",
   "execution_count": 7,
   "id": "49c95c39-96fa-4127-83dc-f2710b45af3d",
   "metadata": {},
   "outputs": [],
   "source": [
    "#combine into single df\n",
    "solar_dict = []\n",
    "\n",
    "for i in range(len(price_list)):\n",
    "    solar_dict_i = {'series': series_list[i],\n",
    "                    'brand': brand_list[i],\n",
    "                    'panel_type': panel_type_list[i],\n",
    "                    'efficiency': efficiency_list[i],\n",
    "                    'power': power_list[i],\n",
    "                    'weight': weight_list[i],\n",
    "                    'region': region_list[i],\n",
    "                    'dimension': dimension_list[i],\n",
    "                    'price': price_list[i]\n",
    "                   }\n",
    "    solar_dict.append(solar_dict_i)"
   ]
  },
  {
   "cell_type": "code",
   "execution_count": 8,
   "id": "22d8c6f4-691b-4722-b6d6-518f687bd6e5",
   "metadata": {},
   "outputs": [],
   "source": [
    "df_jan17 = pd.DataFrame(solar_dict)"
   ]
  },
  {
   "cell_type": "markdown",
   "id": "1c49b70b-2819-4a0e-8dbf-b913fd023724",
   "metadata": {},
   "source": [
    "### Save dataframe"
   ]
  },
  {
   "cell_type": "code",
   "execution_count": 9,
   "id": "dd2c4308-3165-4891-9d76-dbadc4a13502",
   "metadata": {},
   "outputs": [],
   "source": [
    "df_jan17.to_csv('df_jan17.csv')"
   ]
  },
  {
   "cell_type": "code",
   "execution_count": 10,
   "id": "c4e972d9-7934-4cf8-a61b-276ff699d94f",
   "metadata": {},
   "outputs": [
    {
     "name": "stdout",
     "output_type": "stream",
     "text": [
      "<class 'pandas.core.frame.DataFrame'>\n",
      "RangeIndex: 2055 entries, 0 to 2054\n",
      "Data columns (total 9 columns):\n",
      " #   Column      Non-Null Count  Dtype \n",
      "---  ------      --------------  ----- \n",
      " 0   series      2055 non-null   object\n",
      " 1   brand       2055 non-null   object\n",
      " 2   panel_type  2055 non-null   object\n",
      " 3   efficiency  2055 non-null   object\n",
      " 4   power       2055 non-null   object\n",
      " 5   weight      2055 non-null   object\n",
      " 6   region      2055 non-null   object\n",
      " 7   dimension   2055 non-null   object\n",
      " 8   price       2055 non-null   object\n",
      "dtypes: object(9)\n",
      "memory usage: 144.6+ KB\n"
     ]
    }
   ],
   "source": [
    "# note: there are only 2055 datapoints on price!!!\n",
    "\n",
    "df_jan17.info()"
   ]
  },
  {
   "cell_type": "code",
   "execution_count": 13,
   "id": "d791c6f4-c3c2-46cd-9a97-d60cbe4c8189",
   "metadata": {},
   "outputs": [
    {
     "data": {
      "text/plain": [
       "series        0\n",
       "brand         0\n",
       "panel_type    0\n",
       "efficiency    0\n",
       "power         0\n",
       "weight        0\n",
       "region        0\n",
       "dimension     0\n",
       "price         0\n",
       "dtype: int64"
      ]
     },
     "execution_count": 13,
     "metadata": {},
     "output_type": "execute_result"
    }
   ],
   "source": [
    "df_jan17.isna().sum()"
   ]
  },
  {
   "cell_type": "code",
   "execution_count": null,
   "id": "f8eb28df-a059-4a7f-875a-99214582cba8",
   "metadata": {},
   "outputs": [],
   "source": []
  }
 ],
 "metadata": {
  "kernelspec": {
   "display_name": "Python 3 (regression)",
   "language": "python",
   "name": "regression"
  },
  "language_info": {
   "codemirror_mode": {
    "name": "ipython",
    "version": 3
   },
   "file_extension": ".py",
   "mimetype": "text/x-python",
   "name": "python",
   "nbconvert_exporter": "python",
   "pygments_lexer": "ipython3",
   "version": "3.8.8"
  }
 },
 "nbformat": 4,
 "nbformat_minor": 5
}
